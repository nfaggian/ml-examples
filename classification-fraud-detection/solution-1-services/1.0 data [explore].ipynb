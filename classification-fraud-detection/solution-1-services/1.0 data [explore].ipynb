{
 "cells": [
  {
   "cell_type": "code",
   "execution_count": null,
   "metadata": {},
   "outputs": [],
   "source": [
    "import numpy as np\n",
    "import pandas as pd\n",
    "import seaborn as sns\n",
    "import matplotlib.pyplot as plt\n",
    "\n",
    "sns.set_style(\"whitegrid\")"
   ]
  },
  {
   "cell_type": "markdown",
   "metadata": {},
   "source": [
    "# Credit Card Fraud Detection \n",
    "\n",
    "https://www.kaggle.com/mlg-ulb/creditcardfraud\n",
    "\n",
    "- - - \n",
    "\n",
    "The datasets contains transactions made by credit cards in September 2013 by european cardholders.\n",
    "This dataset presents transactions that occurred in two days, where we have 492 frauds out of 284,807 transactions. The dataset is highly unbalanced, the positive class (frauds) account for 0.172% of all transactions.\n",
    "\n",
    "## Dataset description\n",
    "\n",
    "The dataset contains only numerical input variables which are the result of a PCA transformation. Due to confidentiality issues, we cannot provide the original features or more background information about the data. \n",
    "\n",
    "* Features V1, V2, … V28 are the principal components obtained with PCA. \n",
    "* Feature 'Time' contains the seconds elapsed between each transaction and the first transaction in the dataset. \n",
    "* Feature 'Amount' is the transaction Amount, this feature can be used for example-dependant cost-senstive learning. \n",
    "* Feature 'Class' is the response variable and it takes value 1 in case of fraud and 0 otherwise.\n",
    "\n",
    "- - - "
   ]
  },
  {
   "cell_type": "markdown",
   "metadata": {},
   "source": [
    "## Exploratory Data Analysis (EDA)"
   ]
  },
  {
   "cell_type": "code",
   "execution_count": null,
   "metadata": {},
   "outputs": [],
   "source": [
    "data = pd.read_csv('../dataset/creditcard.csv')\n",
    "data.head()"
   ]
  },
  {
   "cell_type": "code",
   "execution_count": null,
   "metadata": {},
   "outputs": [],
   "source": [
    "data.describe()"
   ]
  },
  {
   "cell_type": "markdown",
   "metadata": {},
   "source": [
    "### Data balance"
   ]
  },
  {
   "cell_type": "code",
   "execution_count": null,
   "metadata": {},
   "outputs": [],
   "source": [
    "ax = data['Class'].value_counts().plot(kind='barh')\n",
    "ax.set_xscale('log')\n",
    "ax.grid('on')\n",
    "ax.set_title('class balance');"
   ]
  },
  {
   "cell_type": "markdown",
   "metadata": {},
   "source": [
    "### Spend distribution\n",
    "\n",
    "What is the overlap between normal (Class=0) transactions and fraudulent transactions (Class=1)."
   ]
  },
  {
   "cell_type": "code",
   "execution_count": null,
   "metadata": {},
   "outputs": [],
   "source": [
    "g = sns.catplot(x=\"Class\", y=\"Amount\", kind='boxen', data=data);"
   ]
  },
  {
   "cell_type": "code",
   "execution_count": null,
   "metadata": {},
   "outputs": [],
   "source": [
    "minimum_spend = 0.5\n",
    "filtered_data = data[data['Amount'] > minimum_spend]\n",
    "g = sns.catplot(x=\"Class\", y=\"Amount\", kind='boxen', data=filtered_data);\n",
    "g.set(yscale=\"log\");"
   ]
  },
  {
   "cell_type": "markdown",
   "metadata": {},
   "source": [
    "### Summary statistics"
   ]
  },
  {
   "cell_type": "code",
   "execution_count": null,
   "metadata": {},
   "outputs": [],
   "source": [
    "data.groupby('Class')['Amount'].describe().T"
   ]
  },
  {
   "cell_type": "markdown",
   "metadata": {},
   "source": [
    "### Correlation with target ('Class')"
   ]
  },
  {
   "cell_type": "code",
   "execution_count": null,
   "metadata": {},
   "outputs": [],
   "source": [
    "cmap = sns.diverging_palette(240, 10, n=10)\n",
    "\n",
    "correlation = data.drop(columns=['Time','Class']).corrwith(data['Class'])\n",
    "f, ax = plt.subplots(figsize=(15, 5))\n",
    "xx = pd.DataFrame(correlation).reset_index()\n",
    "xx.columns = ['Variable', 'Correlation']\n",
    "sns.barplot(x='Variable', y='Correlation', data=xx, palette=cmap, ax=ax)\n",
    "sns.despine()"
   ]
  },
  {
   "cell_type": "markdown",
   "metadata": {},
   "source": [
    "The negative correlations mean that as the target variable decreases in value, the feature variable increases in value. (Linearly)"
   ]
  },
  {
   "cell_type": "code",
   "execution_count": null,
   "metadata": {},
   "outputs": [],
   "source": [
    "x = data.groupby('Class').corr()\n",
    "\n",
    "mask = np.triu(np.ones_like(x.loc[0], dtype=np.bool))\n",
    "cmap = sns.diverging_palette(240, 10, as_cmap=True, n=3)\n",
    "\n",
    "f, (ax1, ax2) = plt.subplots(1, 2, figsize=(15, 12))\n",
    "sns.heatmap(x.loc[0], mask=mask, cmap=cmap, vmax=1, vmin=-1, center=0, square=True, linewidths=.5, cbar_kws={\"shrink\": .25}, ax=ax1)\n",
    "ax1.set_title('Class (0)')\n",
    "\n",
    "sns.heatmap(x.loc[1], mask=mask, cmap=cmap, vmax=1, vmin=-1, center=0, square=True, linewidths=.5, cbar_kws={\"shrink\": .25}, ax=ax2)\n",
    "ax2.set_title('Class (1)');"
   ]
  },
  {
   "cell_type": "markdown",
   "metadata": {},
   "source": [
    "Note that the variables in the majority class have very close to zero correlation; a function of the PCA decomposition that has been used to form the features. "
   ]
  },
  {
   "cell_type": "code",
   "execution_count": null,
   "metadata": {},
   "outputs": [],
   "source": []
  }
 ],
 "metadata": {
  "kernelspec": {
   "display_name": "Python 3.8.1 64-bit ('ml-examples': venv)",
   "language": "python",
   "name": "python38164bitmlexamplesvenv8389580761604e70a01d60a65c71d4dc"
  },
  "language_info": {
   "codemirror_mode": {
    "name": "ipython",
    "version": 3
   },
   "file_extension": ".py",
   "mimetype": "text/x-python",
   "name": "python",
   "nbconvert_exporter": "python",
   "pygments_lexer": "ipython3",
   "version": "3.8.1"
  },
  "toc-autonumbering": false
 },
 "nbformat": 4,
 "nbformat_minor": 4
}
