{
 "cells": [
  {
   "cell_type": "markdown",
   "metadata": {},
   "source": [
    "# BQML"
   ]
  },
  {
   "cell_type": "markdown",
   "metadata": {},
   "source": [
    "Create a container for data, which expires after 7 days."
   ]
  },
  {
   "cell_type": "code",
   "execution_count": null,
   "metadata": {},
   "outputs": [],
   "source": [
    "!bq --location=US mk -d \\\n",
    "--default_table_expiration 604800 \\\n",
    "--description \"Credit card fraud datasets and models\" \\\n",
    "fraud"
   ]
  },
  {
   "cell_type": "markdown",
   "metadata": {},
   "source": [
    "Load in the credit dataset"
   ]
  },
  {
   "cell_type": "code",
   "execution_count": null,
   "metadata": {},
   "outputs": [],
   "source": [
    "!bq load \\\n",
    "--autodetect \\\n",
    "--source_format=CSV \\\n",
    "fraud.creditcard \\\n",
    "../dataset/creditcard.csv "
   ]
  },
  {
   "cell_type": "markdown",
   "metadata": {},
   "source": [
    "Load the testing dataset"
   ]
  },
  {
   "cell_type": "code",
   "execution_count": null,
   "metadata": {},
   "outputs": [],
   "source": [
    "!bq load \\\n",
    "--autodetect \\\n",
    "--source_format=CSV \\\n",
    "fraud.creditcard_testing \\\n",
    "../dataset/testing.csv "
   ]
  },
  {
   "cell_type": "markdown",
   "metadata": {},
   "source": [
    "Load the training dataset"
   ]
  },
  {
   "cell_type": "code",
   "execution_count": null,
   "metadata": {},
   "outputs": [],
   "source": [
    "!bq load \\\n",
    "--autodetect \\\n",
    "--source_format=CSV \\\n",
    "fraud.creditcard_training \\\n",
    "../dataset/training.csv "
   ]
  },
  {
   "cell_type": "markdown",
   "metadata": {},
   "source": [
    "## Train a model : logistic regression"
   ]
  },
  {
   "cell_type": "markdown",
   "metadata": {},
   "source": [
    " https://cloud.google.com/bigquery-ml/docs/reference/standard-sql/bigqueryml-syntax-create"
   ]
  },
  {
   "cell_type": "code",
   "execution_count": null,
   "metadata": {},
   "outputs": [],
   "source": [
    "%%bigquery\n",
    "#standardSQL\n",
    "CREATE OR REPLACE MODEL\n",
    "  `fraud.fraud_model` OPTIONS(model_type='logistic_reg') AS\n",
    "SELECT\n",
    "  Class AS label,\n",
    "  * -- V1-V28, Time and Amount are all inputs.\n",
    "  EXCEPT (Class)\n",
    "FROM\n",
    "  `fraud.creditcard_training`"
   ]
  },
  {
   "cell_type": "markdown",
   "metadata": {},
   "source": [
    "## Query model"
   ]
  },
  {
   "cell_type": "markdown",
   "metadata": {},
   "source": [
    "https://cloud.google.com/bigquery-ml/docs/reference/standard-sql/bigqueryml-syntax-create"
   ]
  },
  {
   "cell_type": "code",
   "execution_count": null,
   "metadata": {},
   "outputs": [],
   "source": [
    "%%bigquery\n",
    "#standardSQL\n",
    "SELECT\n",
    "  predicted_label,\n",
    "  -- predicted_label_probs,\n",
    "  label\n",
    "FROM\n",
    "  ML.PREDICT(MODEL `fraud.fraud_model`,\n",
    "    (\n",
    "    SELECT\n",
    "      Class AS label,\n",
    "      * -- V1-V28, Time and Amount are all inputs.\n",
    "      EXCEPT (Class)\n",
    "    FROM\n",
    "      `fraud.creditcard_testing`) )"
   ]
  }
 ],
 "metadata": {
  "kernelspec": {
   "display_name": "Python 3",
   "language": "python",
   "name": "python3"
  },
  "language_info": {
   "codemirror_mode": {
    "name": "ipython",
    "version": 3
   },
   "file_extension": ".py",
   "mimetype": "text/x-python",
   "name": "python",
   "nbconvert_exporter": "python",
   "pygments_lexer": "ipython3",
   "version": "3.8.1"
  }
 },
 "nbformat": 4,
 "nbformat_minor": 4
}
